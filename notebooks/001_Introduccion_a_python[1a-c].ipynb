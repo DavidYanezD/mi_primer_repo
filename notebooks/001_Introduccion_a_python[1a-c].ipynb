{
 "cells": [
  {
   "cell_type": "markdown",
   "id": "spiritual-norway",
   "metadata": {},
   "source": [
    "## Objetivo\n",
    "\n",
    "Introducir al estudiante en el lenguaje de programación Python partiendo de conceptos y entornos de programación.\n",
    "\n",
    "\n",
    "## Temas:\n",
    "\n",
    "- ¿Qué es Python?\n",
    "\n",
    "- Jupyter notebook\n",
    "\n",
    "- Plataformas de Python [anaconda, pycharm, spyder, vscode]\n"
   ]
  },
  {
   "cell_type": "markdown",
   "id": "coral-commodity",
   "metadata": {},
   "source": [
    "___"
   ]
  },
  {
   "cell_type": "markdown",
   "id": "level-grammar",
   "metadata": {},
   "source": [
    "## ¿Qué es Python? \n",
    "![python](https://upload.wikimedia.org/wikipedia/commons/c/c3/Python-logo-notext.svg)\n"
   ]
  },
  {
   "cell_type": "markdown",
   "id": "rotary-organ",
   "metadata": {},
   "source": [
    "<p>Python es un lenguaje de programación poderoso y fácil de aprender. Cuenta con estructuras de datos\n",
    "eficientes y de alto nivel y un enfoque simple pero efectivo a la programación orientada a objetos. La\n",
    "elegante sintaxis de Python y su tipado dinámico, junto con su naturaleza interpretada, hacen de éste un\n",
    "lenguaje ideal para scripting y desarrollo rápido de aplicaciones en diversas áreas y sobre la mayoría de\n",
    "las plataformas.</p>\n",
    "\n",
    "<p>Python es un lenguaje de programación de alto nivel creado por Guido Van Rossum, poderoso y fácil de aprender gracias a su sintaxis tipado dinámico y limpio.</p>\n",
    "\n",
    "https://www.paradigmadigital.com/dev/es-python-el-lenguaje-del-futuro/\n",
    "\n"
   ]
  },
  {
   "cell_type": "markdown",
   "id": "coupled-migration",
   "metadata": {},
   "source": [
    "### Comparativa con otros lenguajes de programación\n",
    "\n",
    "Python es un lenguaje multiparadigma, esto significa que combina propiedades de diferentes paradigmas de programación. Principalmente es un lenguaje orientado a objetos, todo en Python es un objeto, pero también incorpora aspectos de la programación imperativa, funcional, procedural y reflexiva.\n",
    "\n",
    "Una de las características más reseñables de Python es que es un lenguaje interpretado, esto significa que no se compila a diferencia de otros lenguajes como Java o C/C++, sino que es interpretado en tiempo de ejecución. Además, es de tipado dinámico, esto quiere decir que una variable puede tomar valor de diferente tipo durante la ejecución del programa.\n",
    "\n",
    "Python es un lenguaje maduro, con una gran base de desarrolladores, documentación y proyectos en producción."
   ]
  },
  {
   "cell_type": "markdown",
   "id": "above-disaster",
   "metadata": {},
   "source": [
    "Top de lenguajes de programación\n",
    "\n",
    "#1 – Python\n",
    "Python destaca por ser un lenguaje de programación fácil de aprender y de usar. Es de código abierto y se usa en muchos campos como el Machine Learning, la automatización y la computación científica. Ha ganado tanta popularidad que incluso ha sobrepasado a Java en el ranking de GitHub en 2019.\n",
    "\n",
    "#2 – Java\n",
    "Java es especialmente popular para aplicaciones web servidor-cliente. Desde 2007, Sun Microsystems (ahora parte de Oracle) ha vuelto a licenciar la mayoría de tecnologías de Java bajo Licencia Pública General GNU.\n",
    "\n",
    "#3 – JavaScript\n",
    "JavaScript (JS) es un indispensable entre los desarrolladores de software y un punto de partida estupendo para los principiantes. Junto con HTML y CSS, es una tecnología base de la World Wide Web. \n",
    "\n",
    "https://www.stackscale.com/es/blog/top-10-lenguajes-programacion-2020/"
   ]
  },
  {
   "cell_type": "markdown",
   "id": "political-elder",
   "metadata": {},
   "source": [
    "¿Quiénes usan Python?\n",
    "\n",
    "INSTAGRAM\n",
    "\n",
    "¿Sabías que Python está detrás de las fotos que compartes en tu Insta? Y es que Python es el lenguaje perfecto para Instagram, puesto a que es de fácil desarrollo, muy simple de gestionar y es perfecto para el gran volumen de visitas que recibe Instagram diariamente.\n",
    "\n",
    "PINTEREST\n",
    "\n",
    "El motor de la plataforma web está completamente escrito con el lenguaje de programación Python.\n",
    "\n",
    "\n",
    "DROPBOX\n",
    "\n",
    "¿Tú también te alojas en la nube? Has de saber que casi el 100% del código de Dropbox está escrito con Python, siendo utilizado en el cliente Desktop y en la aplicación, siendo este último migrado recientemente a Go.\n",
    "\n",
    "BITTORRENT\n",
    "\n",
    "BitTorrent es más conocido como un “protocolo de intercambio” y goza de mucha popularidad en distintos tipos de círculos de información. Permite además guardar la información que se está descargando sin temor a perderla. Al pausar la descarga no se pierden los datos, como usualmente sucede cuando se realizan descargas con el navegador.\n",
    "\n",
    "¿Qué tiene de especial BitTorrent? Que ha sido completamente creado y diseñado con Python. Es testimonio vivo de lo eficiente y poderoso que es este lenguaje para el desarrollo de grandes proyectos.\n",
    "\n",
    "FACEBOOK\n",
    "\n",
    "Según una publicación de 2016 de Facebook, Python es actualmente responsable de múltiples servicios en gestión de infraestructura.\n",
    "\n",
    "SPOTIFY\n",
    "\n",
    "A Spotify le encanta lo rápido que es el proceso de desarrollo cuando escribe y codifica en Python. Las actualizaciones más recientes de la arquitectura de Spotify han sido todas usando gevent, que proporciona un bucle rápido de eventos con una API síncrona de alto nivel.\n",
    "\n",
    "GOOGLE APP ENGINE\n",
    "\n",
    "Google App Engine permite la creación de aplicaciones web y móviles, conectándose con servicios en la nube como Google Cloud y teniendo resultados bastante eficientes y profesionales.\n",
    "\n",
    "Basa parte de su código en el lenguaje de la serpiente, pero algo destacable, entre una de las opciones más populares que tiene para el desarrollo está Python, permitiendo el uso de frameworks para la construcción de sitios escalables y de alto volumen de tráfico.\n",
    "\n",
    "\n",
    "NETFLIX\n",
    "\n",
    "Netflix utiliza Python para automatizar tareas, para explorar datos y limpieza, junto a otros usos de visualización. Otra gran área donde Python resulta imprescindible en el entrenamiento para aprendizaje automático, en algoritmos de recomendación, algoritmos para la elección del arte que muestra o algoritmos de marketing. En líneas generales, ser intuitivo para resolver problemas de red, la clave del uso de Python en Netflix.\n",
    "\n",
    "LA NASA\n",
    "\n",
    "Lo puedes flipar, literalmente, porque la Administración Nacional de Aeronáutica y del Espacio utiliza Python en gran cantidad de aplicaciones que ejecuta en el desarrollo de sus proyectos.\n",
    "\n",
    "### Y por supuesto el IER-UNAM\n"
   ]
  },
  {
   "cell_type": "markdown",
   "id": "swiss-cycle",
   "metadata": {},
   "source": [
    "__Intérprete de Python__\n",
    "\n",
    "<p>El intérprete de Python. Un intérprete es un programa que permite ejecutar código sin necesidad de compilar.</p>\n",
    "\n",
    "<p>Por lo general, el intérprete de Python se instala en file:/usr/local/bin/python en las máquinas dónde está\n",
    "disponible; poner /usr/local/bin en el camino de búsqueda de tu intérprete de comandos Unix hace\n",
    "posible iniciarlo ingresando la orden:</p<>"
   ]
  },
  {
   "cell_type": "code",
   "execution_count": null,
   "id": "distant-audio",
   "metadata": {},
   "outputs": [],
   "source": [
    "python"
   ]
  },
  {
   "cell_type": "markdown",
   "id": "composed-exploration",
   "metadata": {},
   "source": [
    "<img src=\"https://unipython.com/wp-content/uploads/2019/06/Screenshot-from-2019-06-27-16-04-12.png\"/>\n"
   ]
  },
  {
   "cell_type": "markdown",
   "id": "dying-debut",
   "metadata": {},
   "source": [
    "El sitio oficial de Python permite interactuar con el intérprete:\n",
    "[https://www.python.org/](https://www.python.org/)\n"
   ]
  },
  {
   "cell_type": "markdown",
   "id": "balanced-filling",
   "metadata": {},
   "source": [
    "### Interesándonos por Python\n",
    "\n",
    "<p>Si trabajás mucho con computadoras, eventualmente encontrarás que te gustaría automatizar alguna\n",
    "tarea. Por ejemplo, podrías desear realizar una búsqueda y reemplazo en un gran número de archivos de\n",
    "texto, o renombrar y reorganizar un montón de archivos con fotos de una manera compleja. Tal vez\n",
    "quieras escribir alguna pequeña base de datos personalizada, o una aplicación especializada con interfaz\n",
    "gráfica, o un juego simple.</p>\n",
    "\n",
    "<p>Si sos un desarrollador de software profesional, tal vez necesites trabajar con varias bibliotecas de\n",
    "C/C++/Java pero encuentres que se hace lento el ciclo usual de escribir/compilar/testear/recompilar. Tal\n",
    "vez estás escribiendo una batería de pruebas para una de esas bibliotecas y encuentres que escribir el\n",
    "código de testeo se hace una tarea tediosa. O tal vez has escrito un programa al que le vendría bien un\n",
    "lenguaje de extensión, y no quieres diseñar/implementar todo un nuevo lenguaje para tu aplicación.\n",
    "Python es el lenguaje justo para ti.</p>\n",
    "\n",
    "<p><i>¡Empieza a dominar el mundo pero ya!</i></p>"
   ]
  },
  {
   "cell_type": "markdown",
   "id": "focused-baghdad",
   "metadata": {},
   "source": [
    "## Jupyter notebook\n",
    "\n",
    "<img src=\"https://upload.wikimedia.org/wikipedia/commons/3/38/Jupyter_logo.svg\" width=\"130\" height=\"130\" />\n",
    "\n",
    "\n",
    "\n"
   ]
  },
  {
   "cell_type": "markdown",
   "id": "listed-impact",
   "metadata": {},
   "source": [
    "Jupyter Notebook, es un entorno de trabajo interactivo que permite desarrollar código en Python de manera dinámica, a la vez que integrar en un mismo documento tanto bloques de código como texto, gráficas o imágenes. Es un Software como un Servicio, utilizado ampliamente en análisis numérico, estadística y machine learning, entre otros campos de la informática y las matemáticas."
   ]
  },
  {
   "cell_type": "markdown",
   "id": "beautiful-couple",
   "metadata": {},
   "source": [
    "## Plataformas de Python [anaconda, pycharm, spyder, vscode]\n",
    "<table>\n",
    "    <tr> <td>\n",
    "<img src=\"https://upload.wikimedia.org/wikipedia/en/c/cd/Anaconda_Logo.png\" width=\"130\" height=\"130\" /></td>\n",
    "<td><img src=\"https://upload.wikimedia.org/wikipedia/commons/a/a1/PyCharm_Logo.svg\" width=\"130\" height=\"130\" /></td>\n",
    "<td><img src=\"https://upload.wikimedia.org/wikipedia/commons/7/7e/Spyder_logo.svg\" width=\"130\" height=\"130\" /></td>\n",
    "<td><img src=\"https://user-images.githubusercontent.com/674621/71187801-14e60a80-2280-11ea-94c9-e56576f76baf.png\" width=\"130\" height=\"130\" /></td>\n",
    "        </tr>\n",
    "    </table>"
   ]
  },
  {
   "cell_type": "markdown",
   "id": "humanitarian-invention",
   "metadata": {},
   "source": [
    "### Anaconda. \n",
    "\n",
    "Es una distribución libre y abierta de los lenguajes Python y R, utilizada en ciencia de datos, y aprendizaje automático (machine learning). Esto incluye procesamiento de grandes volúmenes de información, análisis predictivo y cómputos científicos. Está orientado a simplificar el despliegue y administración de los paquetes de software.\n",
    "\n",
    "https://www.anaconda.com/products/individual"
   ]
  },
  {
   "cell_type": "markdown",
   "id": "governing-flexibility",
   "metadata": {},
   "source": [
    "### PyCharm\n",
    "Entorno de desarrollo integrado que proporciona a los desarrolladores de Python la finalización de código y herramientas de reparación rápida.\n",
    "https://www.jetbrains.com/es-es/pycharm/"
   ]
  },
  {
   "cell_type": "markdown",
   "id": "greenhouse-atlantic",
   "metadata": {},
   "source": [
    "### Spyder\n",
    "\n",
    "Este es un potente entorno de desarrollo interactivo para el lenguaje Python. Posé funciones avanzadas de edición, pruebas interactivas, depuración e introspección y un entorno informático numérico. Gracias al soporte de IPython (intérprete interactivo mejorado de Python) y bibliotecas populares de Python como NumPy, SciPy o matplotlib (trazado interactivo 2D / 3D).\n",
    "\n",
    "https://www.spyder-ide.org/"
   ]
  },
  {
   "cell_type": "markdown",
   "id": "satisfied-attention",
   "metadata": {},
   "source": [
    "### vscode\n",
    "\n",
    "Es un editor de código fuente desarrollado por Microsoft para Windows, Linux y macOS. Incluye soporte para la depuración, control integrado de Git, resaltado de sintaxis, finalización inteligente de código, fragmentos y refactorización de código. También es personalizable, por lo que los usuarios pueden cambiar el tema del editor, los atajos de teclado y las preferencias. Es gratuito y de código abierto, aunque la descarga oficial está bajo software privativo e incluye características personalizadas por Microsoft.\n",
    "\n",
    "https://code.visualstudio.com/docs/languages/python"
   ]
  },
  {
   "cell_type": "markdown",
   "id": "appropriate-spell",
   "metadata": {},
   "source": [
    "## Estilo de Códificación\n",
    "\n",
    "* minúscula (lowercase)\n",
    "\n",
    "* minúscula_con_guiones_bajos\n",
    "(lower_case_with_underscores)\n",
    "\n",
    "* MAYÚSCULA (UPPERCASE)\n",
    "\n",
    "* MAYÚSCULA_CON_GUIONES_BAJOS\n",
    "(UPPER_CASE_WITH_UNDERSCORES)\n",
    "\n",
    "* PalabrasConMayúscula (CapitalizedWords) (“CapWords” o\n",
    "“CamelCase”).\n",
    "\n",
    "https://www.python.org/dev/peps/pep-0008/"
   ]
  },
  {
   "cell_type": "code",
   "execution_count": null,
   "id": "provincial-trade",
   "metadata": {},
   "outputs": [],
   "source": []
  }
 ],
 "metadata": {
  "kernelspec": {
   "display_name": "Python 3",
   "language": "python",
   "name": "python3"
  },
  "language_info": {
   "codemirror_mode": {
    "name": "ipython",
    "version": 3
   },
   "file_extension": ".py",
   "mimetype": "text/x-python",
   "name": "python",
   "nbconvert_exporter": "python",
   "pygments_lexer": "ipython3",
   "version": "3.9.1"
  }
 },
 "nbformat": 4,
 "nbformat_minor": 5
}
